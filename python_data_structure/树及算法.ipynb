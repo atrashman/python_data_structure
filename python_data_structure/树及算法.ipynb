{
 "cells": [
  {
   "cell_type": "code",
   "execution_count": null,
   "metadata": {},
   "outputs": [],
   "source": [
    "#树的列表储存：\n",
    "myTree=\t['a',['b',['d',[],[]],['e',[],[]]],['c',['f',[],[]],[]]] \n"
   ]
  },
  {
   "cell_type": "code",
   "execution_count": 1,
   "metadata": {},
   "outputs": [
    {
     "data": {
      "text/plain": [
       "False"
      ]
     },
     "execution_count": 1,
     "metadata": {},
     "output_type": "execute_result"
    }
   ],
   "source": [
    "[] == None"
   ]
  },
  {
   "cell_type": "code",
   "execution_count": 90,
   "metadata": {},
   "outputs": [],
   "source": [
    "#节点表示\n",
    "class binarytree():\n",
    "    def __init__(self,data = None):\n",
    "        self.key = data\n",
    "        self.father = None\n",
    "        self.leftchild = None\n",
    "        self.rightchild = None\n",
    "    def insert_node(self,new_node,where):\n",
    "        if where == 'left':\n",
    "            if self.leftchild == None:\n",
    "                self.leftchild = binarytree(new_node)\n",
    "                self.leftchild.father = self\n",
    "            else :\n",
    "                t = binarytree(newnode)\n",
    "                t.leftchild = self.leftchild\n",
    "                self.leftchild = t\n",
    "                self.leftchild.father = self\n",
    "        elif where == 'right':\n",
    "            if self.rightchild == None:\n",
    "                self.rightchild = binarytree(new_node) \n",
    "                self.rightchild.father = self\n",
    "            else :\n",
    "                t = binarytree(newnode)\n",
    "                t.rightchild = self.rightchild\n",
    "                self.rightchild = t\n",
    "                self.rightchild.father = self\n",
    "    def getRightChild(self):\n",
    "        return self.rightchild\n",
    "    def getLeftChild(self):\n",
    "        return self.leftchild\n",
    "    def setRootVal(self,obj):\n",
    "        self.key = obj\n",
    "    def getRootVal(self):\n",
    "        return self.key\n",
    "    def getfather(self):\n",
    "        return self.father\n",
    "    def setfather(self,node):\n",
    "        self.father = node\n",
    "        node.leftchild = self"
   ]
  },
  {
   "cell_type": "code",
   "execution_count": 120,
   "metadata": {},
   "outputs": [],
   "source": [
    "\n",
    "#判断是否是根：\n",
    "def back_to_root(Tree):\n",
    "    while Tree.getfather() != None:\n",
    "        print(1)\n",
    "        Tree = Tree.getfather()\n",
    "    return Tree\n",
    "#前序遍历\n",
    "def traversing(Tree):\n",
    "    if   Tree:\n",
    "        print(Tree.getRootVal())\n",
    "        traversing(Tree.getLeftChild())\n",
    "    if   Tree:\n",
    "        print('#')#表示返回\n",
    "        traversing(Tree.getRightChild())\n",
    "    "
   ]
  },
  {
   "cell_type": "code",
   "execution_count": 121,
   "metadata": {},
   "outputs": [],
   "source": [
    "#运算顺序：\n",
    "#1、根节点接收到数字，进入左节点并且打入数字，再返回到根节点；接收到括号，设置为空，进入左节点的左节点\n",
    "#2、普通节点接受到符号，打入符号，并且返回右节点\n",
    "#3、普通节点接收到‘(’,打入，并且返回左节点\n",
    "#4、普通节点接收到数字，打入数字，并且返回  （叶子都是数字）\n",
    "def fomulation2tree(string):\n",
    "    if not string :\n",
    "        return None\n",
    "    str_list = string.split()\n",
    "    Tree = binarytree()\n",
    "    symbols = '+-*/'\n",
    "    characters = 'abcdefghijklmnopqrstuvwxyz'\n",
    "    bracket = '()'\n",
    "    current = Tree\n",
    "    print(str_list)\n",
    "    #都摆好了就等进入\n",
    "    k = 0\n",
    "    for i in str_list:       \n",
    "        if k == 0:#根节点\n",
    "            #print('ss')\n",
    "            if i in characters:# 插入左节点  数字打入左节点，回来\n",
    "                current.insert_node(i,'left')\n",
    "            else:#不是数字就是括号   进入左节点\n",
    "                current.insert_node(None,'left')\n",
    "                current = current.getLeftChild()\n",
    "            k=1\n",
    "        else:\n",
    "            #普通节点\n",
    "            if i in characters:\n",
    "                #print(3)\n",
    "                current.setRootVal(i)\n",
    "                current = current.getfather()\n",
    "                #print(current.getRightChild())\n",
    "#                 if current.getRightChild() == None:\n",
    "#                     current.insert_node(i,'right')\n",
    "#                     current = current.getRightChild()\n",
    "                if current.getRightChild():#如果刚才是打入右节点\n",
    "                     #print(type(current))\n",
    "                    while current.getfather() != None and current.getRightChild() != None :#右孩子不是空的地方可以插入的 右孩子不为空说明无法插入\n",
    "                         current = current.getfather()\n",
    "                    if current.getRightChild() == None:#如果是根节点没有右孩子，进去 否则停留在根节点\n",
    "                        current.insert_node(i,'right')\n",
    "                        current = current.getRightChild()   \n",
    "            elif i in bracket:\n",
    "                #print(2)\n",
    "                if i == '(':\n",
    "                    current.setRootVal(None)\n",
    "                    current.insert_node(None,'left')\n",
    "                    current = current.getLeftChild()\n",
    "                    #print(current.getfather() == None)\n",
    "                elif i == ')':#说明括号内的所有符号都有了左右孩子\n",
    "                    while current.getRightChild() != None and current.getfather() != None:\n",
    "                        current = current.getfather()\n",
    "                    if current.getRightChild() != None and current.getfather() == None:\n",
    "                        pass\n",
    "                    elif current.getRightChild() != None and current.getfather() != None:\n",
    "                        current = current.getRightChild()\n",
    "            elif i in symbols:\n",
    "                if current.getRootVal() != None :#有字符占据的时候\n",
    "                    exact_node = binarytree(i)\n",
    "                    current.setfather(exact_node)\n",
    "                    current = current.getfather()\n",
    "                    current.insert_node(None,'right')\n",
    "                    current = current.getRightChild()\n",
    "                elif current.getRootVal() == None:\n",
    "                    current.setRootVal(i)\n",
    "                    current.insert_node(None,'right')\n",
    "                    current = current.getRightChild()\n",
    "    return current\n",
    "                    "
   ]
  },
  {
   "cell_type": "code",
   "execution_count": 122,
   "metadata": {},
   "outputs": [
    {
     "name": "stdout",
     "output_type": "stream",
     "text": [
      "['c', '-', '(', 'a', '+', 'b', ')', '+', 'd', '+', 'e']\n",
      "+\n",
      "+\n",
      "-\n",
      "c\n",
      "#\n",
      "#\n",
      "+\n",
      "a\n",
      "#\n",
      "#\n",
      "b\n",
      "#\n",
      "#\n",
      "d\n",
      "#\n",
      "#\n",
      "e\n",
      "#\n"
     ]
    }
   ],
   "source": [
    "string = 'c - ( a + b ) + d + e '\n",
    "Tree = fomulation2tree(string)\n",
    "#back_to_root(Tree)\n",
    "traversing(Tree)"
   ]
  },
  {
   "cell_type": "code",
   "execution_count": 125,
   "metadata": {},
   "outputs": [],
   "source": [
    "#二叉堆\n",
    "#最小堆\n",
    "#一个完整的二叉树是一个 树，其中每个层都有其所有的节点，除了树的最底层，从左到右填充。\n",
    "#\t请注意 父级p和子级之间是2p和2p+1关系。  偶数是左节点  奇数是右节点\n",
    "\n",
    "#用列表表示二叉堆\n",
    "class heaplist():\n",
    "    def __init__(self):\n",
    "        self.alist = [0]#方便整数除法\n",
    "        self.size = len(self.alist)-1#可以认为是最大下标\n",
    "    def insert(self,data):  \n",
    "        father = self.alist[self.size//2]#得到父节点的数值\n",
    "        self.append(data)\n",
    "        k = self.size\n",
    "        while data < father:\n",
    "            self.alist[k//2],self.alist[k] = data,father\n",
    "            father = self.alist[k//2]#得到父节点的数值\n",
    "            k = k//2\n",
    "    #被甩上去的都是符合二叉堆的 ，只需要跟踪一个节点即可\n",
    "    #同时小于左右节点是算完成\n",
    "    def delmin(self):\n",
    "        self.alist[1] = self.alist[-1]\n",
    "        del self.alist[-1]\n",
    "        data = self.alist[1]\n",
    "        i = 1\n",
    "        balance = False\n",
    "        while not balance and 2*i <= self.size:# 还有下级   不用跟同级人比较\n",
    "            while  data > alist[2*i]:\n",
    "                self.alist[i],self.alist[2*i] = self.alist[2*i],self.alist[i]\n",
    "                i *= 2#一直往左节点跑\n",
    "            if 2*i+1 > self.size:\n",
    "                break\n",
    "            if data > alist[2*i+1]:\n",
    "                self.alist[i],self.alist[2*i+1] = self.alist[2*i+1],self.alist[i]\n",
    "                i  = i*2+1#向右跑一下\n",
    "            if data > alist[2*i+1] and data>alist[2*i]:\n",
    "                balance = True\n",
    "    def buildheap(self,alist):#用一个列表构建二叉堆\n",
    "        self.size=len(alist)-1\n",
    "        i = self.size+1\n",
    "        while(i>0):\n",
    "            self.insert(alist[i-1])\n",
    "            i=i-1\n"
   ]
  },
  {
   "cell_type": "code",
   "execution_count": 127,
   "metadata": {},
   "outputs": [
    {
     "ename": "IndexError",
     "evalue": "list index out of range",
     "output_type": "error",
     "traceback": [
      "\u001b[1;31m---------------------------------------------------------------------------\u001b[0m",
      "\u001b[1;31mIndexError\u001b[0m                                Traceback (most recent call last)",
      "\u001b[1;32m<ipython-input-127-57de051fb653>\u001b[0m in \u001b[0;36m<module>\u001b[1;34m()\u001b[0m\n\u001b[0;32m      1\u001b[0m \u001b[0mbh\u001b[0m \u001b[1;33m=\u001b[0m \u001b[0mheaplist\u001b[0m\u001b[1;33m(\u001b[0m\u001b[1;33m)\u001b[0m\u001b[1;33m\u001b[0m\u001b[0m\n\u001b[1;32m----> 2\u001b[1;33m \u001b[0mbh\u001b[0m\u001b[1;33m.\u001b[0m\u001b[0mbuildheap\u001b[0m\u001b[1;33m(\u001b[0m\u001b[1;33m[\u001b[0m\u001b[1;36m9\u001b[0m\u001b[1;33m,\u001b[0m\u001b[1;36m5\u001b[0m\u001b[1;33m,\u001b[0m\u001b[1;36m6\u001b[0m\u001b[1;33m,\u001b[0m\u001b[1;36m2\u001b[0m\u001b[1;33m,\u001b[0m\u001b[1;36m3\u001b[0m\u001b[1;33m]\u001b[0m\u001b[1;33m)\u001b[0m\u001b[1;33m\u001b[0m\u001b[0m\n\u001b[0m",
      "\u001b[1;32m<ipython-input-125-47a494e1343a>\u001b[0m in \u001b[0;36mbuildheap\u001b[1;34m(self, alist)\u001b[0m\n\u001b[0;32m     40\u001b[0m         \u001b[0mi\u001b[0m \u001b[1;33m=\u001b[0m \u001b[0mself\u001b[0m\u001b[1;33m.\u001b[0m\u001b[0msize\u001b[0m\u001b[1;33m+\u001b[0m\u001b[1;36m1\u001b[0m\u001b[1;33m\u001b[0m\u001b[0m\n\u001b[0;32m     41\u001b[0m         \u001b[1;32mwhile\u001b[0m\u001b[1;33m(\u001b[0m\u001b[0mi\u001b[0m\u001b[1;33m>\u001b[0m\u001b[1;36m0\u001b[0m\u001b[1;33m)\u001b[0m\u001b[1;33m:\u001b[0m\u001b[1;33m\u001b[0m\u001b[0m\n\u001b[1;32m---> 42\u001b[1;33m             \u001b[0mself\u001b[0m\u001b[1;33m.\u001b[0m\u001b[0minsert\u001b[0m\u001b[1;33m(\u001b[0m\u001b[0malist\u001b[0m\u001b[1;33m[\u001b[0m\u001b[0mi\u001b[0m\u001b[1;33m-\u001b[0m\u001b[1;36m1\u001b[0m\u001b[1;33m]\u001b[0m\u001b[1;33m)\u001b[0m\u001b[1;33m\u001b[0m\u001b[0m\n\u001b[0m\u001b[0;32m     43\u001b[0m             \u001b[0mi\u001b[0m\u001b[1;33m=\u001b[0m\u001b[0mi\u001b[0m\u001b[1;33m-\u001b[0m\u001b[1;36m1\u001b[0m\u001b[1;33m\u001b[0m\u001b[0m\n",
      "\u001b[1;32m<ipython-input-125-47a494e1343a>\u001b[0m in \u001b[0;36minsert\u001b[1;34m(self, data)\u001b[0m\n\u001b[0;32m     10\u001b[0m         \u001b[0mself\u001b[0m\u001b[1;33m.\u001b[0m\u001b[0msize\u001b[0m \u001b[1;33m=\u001b[0m \u001b[0mlen\u001b[0m\u001b[1;33m(\u001b[0m\u001b[0mself\u001b[0m\u001b[1;33m.\u001b[0m\u001b[0malist\u001b[0m\u001b[1;33m)\u001b[0m\u001b[1;33m-\u001b[0m\u001b[1;36m1\u001b[0m\u001b[1;31m#可以认为是最大下标\u001b[0m\u001b[1;33m\u001b[0m\u001b[0m\n\u001b[0;32m     11\u001b[0m     \u001b[1;32mdef\u001b[0m \u001b[0minsert\u001b[0m\u001b[1;33m(\u001b[0m\u001b[0mself\u001b[0m\u001b[1;33m,\u001b[0m\u001b[0mdata\u001b[0m\u001b[1;33m)\u001b[0m\u001b[1;33m:\u001b[0m\u001b[1;33m\u001b[0m\u001b[0m\n\u001b[1;32m---> 12\u001b[1;33m         \u001b[0mfather\u001b[0m \u001b[1;33m=\u001b[0m \u001b[0mself\u001b[0m\u001b[1;33m.\u001b[0m\u001b[0malist\u001b[0m\u001b[1;33m[\u001b[0m\u001b[0mself\u001b[0m\u001b[1;33m.\u001b[0m\u001b[0msize\u001b[0m\u001b[1;33m//\u001b[0m\u001b[1;36m2\u001b[0m\u001b[1;33m]\u001b[0m\u001b[1;31m#得到父节点的数值\u001b[0m\u001b[1;33m\u001b[0m\u001b[0m\n\u001b[0m\u001b[0;32m     13\u001b[0m         \u001b[0mself\u001b[0m\u001b[1;33m.\u001b[0m\u001b[0mappend\u001b[0m\u001b[1;33m(\u001b[0m\u001b[0mdata\u001b[0m\u001b[1;33m)\u001b[0m\u001b[1;33m\u001b[0m\u001b[0m\n\u001b[0;32m     14\u001b[0m         \u001b[0mk\u001b[0m \u001b[1;33m=\u001b[0m \u001b[0mself\u001b[0m\u001b[1;33m.\u001b[0m\u001b[0msize\u001b[0m\u001b[1;33m\u001b[0m\u001b[0m\n",
      "\u001b[1;31mIndexError\u001b[0m: list index out of range"
     ]
    }
   ],
   "source": [
    "bh = heaplist()\n",
    "bh.buildheap([9,5,6,2,3])\n"
   ]
  },
  {
   "cell_type": "code",
   "execution_count": null,
   "metadata": {},
   "outputs": [],
   "source": []
  }
 ],
 "metadata": {
  "kernelspec": {
   "display_name": "Python 3",
   "language": "python",
   "name": "python3"
  },
  "language_info": {
   "codemirror_mode": {
    "name": "ipython",
    "version": 3
   },
   "file_extension": ".py",
   "mimetype": "text/x-python",
   "name": "python",
   "nbconvert_exporter": "python",
   "pygments_lexer": "ipython3",
   "version": "3.6.5"
  }
 },
 "nbformat": 4,
 "nbformat_minor": 2
}
