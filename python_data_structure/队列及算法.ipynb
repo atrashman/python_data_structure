{
 "cells": [
  {
   "cell_type": "code",
   "execution_count": 14,
   "metadata": {},
   "outputs": [],
   "source": [
    "class Queue:\n",
    "    def __init__(self):\n",
    "        self.items = []\n",
    "\n",
    "    def isEmpty(self):\n",
    "        return self.items == []\n",
    "\n",
    "    def enqueue(self, item):\n",
    "        self.items.insert(0,item)\n",
    "\n",
    "    def dequeue(self):\n",
    "        return self.items.pop()\n",
    "\n",
    "    def size(self):\n",
    "        return len(self.items)\n",
    "    \n",
    "    def peek(self):\n",
    "        if not self.isEmpty():\n",
    "            return self.items[0]\n",
    "        else:\n",
    "            return None"
   ]
  },
  {
   "cell_type": "code",
   "execution_count": 3,
   "metadata": {},
   "outputs": [],
   "source": [
    "#约瑟夫问题解法1\n",
    "#理解n mod m的几何意义   index = （index+1） % count； \n",
    "def hotpotato(namelist,num,survives):#num为数数单位  survives为最后幸存者数\n",
    "    queue = Queue()\n",
    "    #先全部入队\n",
    "    for i in namelist:\n",
    "        queue.enqueue(i)\n",
    "    while queue.size() > survives:\n",
    "        for i in range(num):\n",
    "            queue.enqueue(queue.dequeue())\n",
    "        queue.dequeue()\n",
    "    store = []\n",
    "    while not queue.isEmpty():\n",
    "        store.append(queue.dequeue())\n",
    "    return store\n",
    "#hotpotato(['1','2','3','4','5','6','7','8','9','10'],4,3)\n",
    "\n"
   ]
  },
  {
   "cell_type": "code",
   "execution_count": 22,
   "metadata": {},
   "outputs": [],
   "source": [
    "#模拟打印机\n",
    "#先定义一个task 随机数决定任务有多少页\n",
    "import random\n",
    "class task():\n",
    "    def __init__(self):\n",
    "        self.page_num = random.randint(1,20)\n",
    "        self.needed_time =self.page_num*5 #一页5秒\n",
    "    def need_time(self):\n",
    "        return self.needed_time\n",
    "    def pages(self):\n",
    "        return self.page_num\n",
    "    def do_one_second(self):\n",
    "        self.needed_time -= 1\n",
    "class printer():\n",
    "    def __init__(self):\n",
    "        self.print_queue = Queue()#任务队列\n",
    "        self .task_num = self.print_queue.size()#任务数\n",
    "        self.sum_time = 0#真实所需工作时间\n",
    "    def isEmpty(self):\n",
    "        return self.print_queue.isEmpty()\n",
    "    def add_task(self):#加任务\n",
    "        #先判断是否创建任务\n",
    "        chance = random.randint(1,180)\n",
    "        if chance == 180:\n",
    "            print(\"增加一个任务：\")\n",
    "            one_task = task()\n",
    "            self.sum_time += one_task.need_time()\n",
    "            return self.print_queue.enqueue(one_task)\n",
    "        else :#不创建任务就返回None\n",
    "            return None\n",
    "        \n",
    "    def do_a_task(self):#做一个队伍中的任务\n",
    "        if self.print_queue.isEmpty():\n",
    "            return None\n",
    "        else:\n",
    "            if self.print_queue.peek().need_time() == 1:\n",
    "                self.print_queue.dequeue()\n",
    "                print(\"完成一个任务。\")\n",
    "            else:\n",
    "                self.print_queue.peek().do_one_second()\n",
    "    def num_task(self):#任务数\n",
    "        return task_num"
   ]
  },
  {
   "cell_type": "code",
   "execution_count": 25,
   "metadata": {},
   "outputs": [
    {
     "name": "stdout",
     "output_type": "stream",
     "text": [
      "增加一个任务：\n",
      "增加一个任务：\n",
      "完成一个任务。\n",
      "完成一个任务。\n",
      "增加一个任务：\n",
      "完成一个任务。\n",
      "增加一个任务：\n",
      "完成一个任务。\n",
      "增加一个任务：\n",
      "完成一个任务。\n",
      "增加一个任务：\n",
      "完成一个任务。\n",
      "增加一个任务：\n",
      "增加一个任务：\n",
      "完成一个任务。\n",
      "完成一个任务。\n",
      "增加一个任务：\n"
     ]
    }
   ],
   "source": [
    "def printer_working(working_time):\n",
    "    time = 0\n",
    "    one_printer = printer()\n",
    "    while time < working_time:\n",
    "        one_printer.add_task()\n",
    "        if not one_printer.isEmpty():\n",
    "            one_printer.do_a_task()\n",
    "        time += 1\n",
    "printer_working(1800)"
   ]
  },
  {
   "cell_type": "code",
   "execution_count": 27,
   "metadata": {},
   "outputs": [
    {
     "name": "stdout",
     "output_type": "stream",
     "text": [
      "[12, 12] [12, 12]\n"
     ]
    }
   ],
   "source": [
    "#循环队列\n",
    "class Deque:\n",
    "    def __init__(self):\n",
    "        self.items = []\n",
    "\n",
    "    def isEmpty(self):\n",
    "        return self.items == []\n",
    "\n",
    "    def addFront(self, item):\n",
    "        self.items.append(item)\n",
    "\n",
    "    def addRear(self, item):\n",
    "        self.items.insert(0,item)\n",
    "\n",
    "    def removeFront(self):\n",
    "        return self.items.pop()\n",
    "\n",
    "    def removeRear(self):\n",
    "        return self.items.pop(0)\n",
    "\n",
    "    def size(self):\n",
    "        return len(self.items)\n"
   ]
  },
  {
   "cell_type": "code",
   "execution_count": 28,
   "metadata": {},
   "outputs": [],
   "source": [
    "#循环队列解决回文数\n"
   ]
  },
  {
   "cell_type": "code",
   "execution_count": null,
   "metadata": {},
   "outputs": [],
   "source": [
    "class NODE():#node类储存数据、下一个位置和操作\n",
    "    def __init__ (self,data):\n",
    "        self.data = data\n",
    "        self.next = None\n",
    "    def getnext (self):\n",
    "        return self.next\n",
    "    def getdata(self):\n",
    "        return self.next\n",
    "    def setdata(self,newdata):\n",
    "        self.data = newdata\n",
    "    def setnext (self,newnext):\n",
    "        self.next = newnext\n",
    "#无序列表\n",
    "class unorderdlist():\n",
    "    def __init__(self):\n",
    "        self.head = None\n",
    "    def isEmpty(self):\n",
    "        return self.head == None\n",
    "    def add(self,data):\n",
    "        temp = NODE(data)\n",
    "        temp.setnext(self.head)#存到next\n",
    "        self.head = temp#再让头过来\n",
    "        \n",
    "        "
   ]
  }
 ],
 "metadata": {
  "kernelspec": {
   "display_name": "Python 3",
   "language": "python",
   "name": "python3"
  },
  "language_info": {
   "codemirror_mode": {
    "name": "ipython",
    "version": 3
   },
   "file_extension": ".py",
   "mimetype": "text/x-python",
   "name": "python",
   "nbconvert_exporter": "python",
   "pygments_lexer": "ipython3",
   "version": "3.6.5"
  }
 },
 "nbformat": 4,
 "nbformat_minor": 2
}
