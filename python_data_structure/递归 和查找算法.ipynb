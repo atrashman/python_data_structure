{
 "cells": [
  {
   "cell_type": "code",
   "execution_count": 7,
   "metadata": {},
   "outputs": [
    {
     "name": "stdout",
     "output_type": "stream",
     "text": [
      "1010\n"
     ]
    }
   ],
   "source": [
    "#递归核心思想是问题转化\n",
    "#进制转换程序\n",
    "def tostr(num,base):\n",
    "    convert2str = '0123456789ABCDEF'\n",
    "    if num <base:\n",
    "        return convert2str[num]\n",
    "    else :\n",
    "        return tostr(num//base,base)+convert2str[num%base]\n",
    "print(tostr(10,2))"
   ]
  },
  {
   "cell_type": "code",
   "execution_count": 1,
   "metadata": {},
   "outputs": [],
   "source": [
    "import turtle  #画图的库\n",
    "myturtle = turtle.Turtle()\n",
    "mywin = turtle.Screen()\n",
    "def draw(myturtle,linelen = 100):#linelen 线长\n",
    "    \n",
    "    if linelen > 0:\n",
    "        myturtle.forward(linelen)\n",
    "        myturtle.right(90)\n",
    "        \n",
    "        draw(myturtle,linelen-5)\n",
    "draw(myturtle,100)\n",
    "mywin.exitonclick()"
   ]
  },
  {
   "cell_type": "code",
   "execution_count": 2,
   "metadata": {},
   "outputs": [],
   "source": [
    "import turtle  #画图的库\n",
    "\n",
    "def draw_trigon(): \n",
    "    mywin = turtle.Screen()\n",
    "    brad = turtle.Turtle()    \n",
    "    brad.shape('classic')    \n",
    "    brad.color('blue')    \n",
    "    num = 0    \n",
    "    while num < 3:        \n",
    "        brad.forward(50)        \n",
    "        brad.right(120)        \n",
    "        brad.speed(1)        \n",
    "        num += 1\n",
    "    mywin.exitonclick()\n",
    "draw_trigon()\n"
   ]
  },
  {
   "cell_type": "code",
   "execution_count": 1,
   "metadata": {},
   "outputs": [
    {
     "name": "stdout",
     "output_type": "stream",
     "text": [
      "1 from A to C\n",
      "2 from A to B\n",
      "1 from C to B\n",
      "3 from A to C\n",
      "1 from B to A\n",
      "2 from B to C\n",
      "1 from A to C\n"
     ]
    }
   ],
   "source": [
    "#汉诺塔\\\n",
    "# 1-9块从顶到底  A B C三个盘\n",
    "def movetower(num_brick,column1,column2):\n",
    "    dict_ = {}\n",
    "    if num_brick == 1:\n",
    "        print(str(num_brick)+' from '+column1+' to '+column2)\n",
    "    elif column1 == 'B' and column2 == 'C':\n",
    "        movetower(num_brick-1,'B','A')\n",
    "        print(str(num_brick)+' from '+column1+' to '+column2)\n",
    "        movetower(num_brick-1,'A','C')\n",
    "    elif column1 == 'A'and column2 == 'C':\n",
    "        #把1 — height-1移动到中间柱子\n",
    "        movetower(num_brick-1,'A','B')#前num-1移动到B柱\n",
    "        print(str(num_brick)+' from '+column1+' to '+column2)\n",
    "        movetower(num_brick-1,'B','C')\n",
    "    elif column1 == 'B'and column2 == 'A':\n",
    "        movetower(num_brick-1,'B','C')\n",
    "        print(str(num_brick)+' from '+column1+' to '+column2)\n",
    "        movetower(num_brick-1,'C','A')\n",
    "    elif column1 == 'C'and column2 == 'A':\n",
    "        movetower(num_brick-1,'C','B')\n",
    "        print(str(num_brick)+' from '+column1+' to '+column2)\n",
    "        movetower(num_brick-1,'B','A')\n",
    "    elif column1 == 'C'and column2 == 'B':\n",
    "        movetower(num_brick-1,'C','A')\n",
    "        print(str(num_brick)+' from '+column1+' to '+column2)\n",
    "        movetower(num_brick-1,'A','B')\n",
    "    elif column1 == 'A'and column2 == 'B':\n",
    "        movetower(num_brick-1,'A','C')\n",
    "        print(str(num_brick)+' from '+column1+' to '+column2)\n",
    "        movetower(num_brick-1,'C','B')\n",
    "movetower(3,'A','C')"
   ]
  },
  {
   "cell_type": "code",
   "execution_count": 41,
   "metadata": {},
   "outputs": [
    {
     "name": "stdout",
     "output_type": "stream",
     "text": [
      "1 from A to C\n",
      "2 from A to B\n",
      "1 from C to B\n",
      "3 from A to C\n",
      "1 from B to A\n",
      "2 from B to C\n",
      "1 from A to C\n"
     ]
    }
   ],
   "source": [
    "def searchFrom(maze,startRow,startColumn):\n",
    "    maze.updatePosition(startRow,startColumn)                                   \n",
    "    if  maze[startRow][startColumn]  == OBSTACLE :                                                                \n",
    "        return  False                                #                                        \n",
    "    if  maze[startRow][startColumn] == TRIED:                                        \n",
    "        return False                                                           \n",
    "    if  maze.isExit(startRow,startColumn):                                        \n",
    "        maze.updatePosition(startRow,startColumn,PART_OF_PATH)                                            \n",
    "        return  True                                \n",
    "    maze.updatePosition(startRow,startColumn,TRIED)                                \n",
    "    found = searchFrom(maze, startRow-1, startColumn) or        \\                                                                                                \n",
    "    searchFrom(maze,startRow+1,startColumn) or        \\                                                                                                \n",
    "    searchFrom(maze,startRow,startColumn-1) or        \\                                                                                                \n",
    "    searchFrom(maze,startRow,startColumn+1)                                \n",
    "    if  found:                              \n",
    "            maze.updatePosition(startRow,startColumn,PART_OF_PATH)                                \n",
    "    else:                                                \n",
    "            maze.updatePosition(startRow,startColumn,DEAD_END)                                \n",
    "    return  found"
   ]
  },
  {
   "cell_type": "code",
   "execution_count": 42,
   "metadata": {},
   "outputs": [],
   "source": [
    "#找零  重看"
   ]
  },
  {
   "cell_type": "code",
   "execution_count": 2,
   "metadata": {},
   "outputs": [
    {
     "data": {
      "text/plain": [
       "True"
      ]
     },
     "execution_count": 2,
     "metadata": {},
     "output_type": "execute_result"
    }
   ],
   "source": [
    "#递归的二分查找(1) 只能查看是否有，不能找到位置\n",
    "def binarySearch(alist , item):\n",
    "    middle_index = len(alist)//2\n",
    "    if middle_index == 0:\n",
    "        return alist[0] == item\n",
    "    if binarySearch(alist[:middle_index],item):\n",
    "        return True\n",
    "    elif binarySearch(alist[middle_index:],item):\n",
    "        return True\n",
    "    return False\n",
    "binarySearch([1,2,3,4,56,544,532,423,4,21,231],544)\n",
    "        "
   ]
  },
  {
   "cell_type": "code",
   "execution_count": 55,
   "metadata": {},
   "outputs": [
    {
     "data": {
      "text/plain": [
       "False"
      ]
     },
     "execution_count": 55,
     "metadata": {},
     "output_type": "execute_result"
    }
   ],
   "source": [
    "#顺序表中的二分查找 alist为升序表\n",
    "def binarySearch(alist,item):\n",
    "    #middle_index == len(alist)//2\n",
    "    found = False\n",
    "    start = 0\n",
    "    end = len(alist)-1\n",
    "    while start < found:\n",
    "        middle = (start+found)//2\n",
    "        if alist[middle] > item:\n",
    "            end = middle-1\n",
    "        elif alist[middle] == item:\n",
    "            return middle\n",
    "        else :\n",
    "            start = middle+1\n",
    "    return False\n",
    "            "
   ]
  },
  {
   "cell_type": "code",
   "execution_count": 6,
   "metadata": {},
   "outputs": [
    {
     "data": {
      "text/plain": [
       "[1, 2, 3, 4, 56, 544, 532, 423, 4, 21, 231]"
      ]
     },
     "execution_count": 6,
     "metadata": {},
     "output_type": "execute_result"
    }
   ],
   "source": [
    "a = [1,2,3,4,56,544,532,423,4,21,231]\n",
    "a[0:] #[1, 2, 3, 4, 56, 544, 532, 423, 4, 21, 231] \n",
    "#说明列表是[ )切片的"
   ]
  },
  {
   "cell_type": "code",
   "execution_count": null,
   "metadata": {},
   "outputs": [],
   "source": []
  }
 ],
 "metadata": {
  "kernelspec": {
   "display_name": "Python 3",
   "language": "python",
   "name": "python3"
  },
  "language_info": {
   "codemirror_mode": {
    "name": "ipython",
    "version": 3
   },
   "file_extension": ".py",
   "mimetype": "text/x-python",
   "name": "python",
   "nbconvert_exporter": "python",
   "pygments_lexer": "ipython3",
   "version": "3.6.5"
  }
 },
 "nbformat": 4,
 "nbformat_minor": 2
}
